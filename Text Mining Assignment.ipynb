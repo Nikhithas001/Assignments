{
 "cells": [
  {
   "cell_type": "markdown",
   "metadata": {},
   "source": [
    "# Amazon reviews For a Ear Phone"
   ]
  },
  {
   "cell_type": "code",
   "execution_count": 1,
   "metadata": {},
   "outputs": [],
   "source": [
    "#pip install amazon-product-review-scraper"
   ]
  },
  {
   "cell_type": "code",
   "execution_count": 2,
   "metadata": {},
   "outputs": [],
   "source": [
    "#from amazon_product_review_scraper import amazon_product_review_scraper\n",
    "#review_scraper = amazon_product_review_scraper(amazon_site=\"amazon.in\", product_asin=\"B08S6Z2L7P\")\n",
    "#reviews_df = review_scraper.scrape()"
   ]
  },
  {
   "cell_type": "code",
   "execution_count": 3,
   "metadata": {},
   "outputs": [],
   "source": [
    "import pandas as pd\n",
    "import numpy as np\n",
    "import string\n",
    "import spacy\n",
    "from matplotlib.pyplot import imread\n",
    "from matplotlib import pyplot as plt\n",
    "from wordcloud import WordCloud\n",
    "%matplotlib inline"
   ]
  },
  {
   "cell_type": "code",
   "execution_count": 4,
   "metadata": {},
   "outputs": [],
   "source": [
    "#df = pd.DataFrame(reviews_df)\n",
    "#df.to_csv('reviews.csv')"
   ]
  },
  {
   "cell_type": "code",
   "execution_count": 5,
   "metadata": {},
   "outputs": [
    {
     "data": {
      "text/plain": [
       "<bound method NDFrame.head of       Unnamed: 0                              date_info              name  \\\n",
       "0              0  Reviewed in India on 26 February 2021        M.L.Dewani   \n",
       "1              1  Reviewed in India on 17 February 2021             Athar   \n",
       "2              2  Reviewed in India on 18 February 2021       Bhagwanaram   \n",
       "3              3   Reviewed in India on 9 February 2021   Sourabh Jagoree   \n",
       "4              4   Reviewed in India on 8 February 2021        Abdulvahid   \n",
       "...          ...                                    ...               ...   \n",
       "1387        1387      Reviewed in India on 3 March 2021  HITESH DHAMDHERE   \n",
       "1388        1388  Reviewed in India on 10 February 2021          sachin k   \n",
       "1389        1389  Reviewed in India on 18 February 2021     Hrutik Borate   \n",
       "1390        1390      Reviewed in India on 23 June 2021             Robil   \n",
       "1391        1391     Reviewed in India on 17 April 2021       Prakash s k   \n",
       "\n",
       "                                                  title  \\\n",
       "0                        Heads you win, Tails you lose.   \n",
       "1                                Truly genuine neckband   \n",
       "2                           The Bluetooth is very nice.   \n",
       "3     Very flexible neckand, quality is also perfect...   \n",
       "4                                          Good quality   \n",
       "...                                                 ...   \n",
       "1387                                  Amazing purchase!   \n",
       "1388                                        Too....good   \n",
       "1389                      Best headphones at best price   \n",
       "1390                                              Soory   \n",
       "1391                                   It's not working   \n",
       "\n",
       "                                                content              rating  \n",
       "0     Every product has a head and tail after it get...  4.0 out of 5 stars  \n",
       "1     Today i am gonna Share my Genuine Veiws on WeC...  5.0 out of 5 stars  \n",
       "2     The nickband is really good for the price.. It...  5.0 out of 5 stars  \n",
       "3     Likes the product very much, sound quality att...  5.0 out of 5 stars  \n",
       "4     Wirelength is too long, battery back up is ok ...  5.0 out of 5 stars  \n",
       "...                                                 ...                 ...  \n",
       "1387  Amazing purchase!. Fits well in ears . Long la...  5.0 out of 5 stars  \n",
       "1388  Sound quality of earphones is just superb and ...  5.0 out of 5 stars  \n",
       "1389      Sound quality is best,bass quality is awesome  5.0 out of 5 stars  \n",
       "1390  Soory actually I was thinking that was boats p...  2.0 out of 5 stars  \n",
       "1391                       Is not working its very beed  1.0 out of 5 stars  \n",
       "\n",
       "[1392 rows x 6 columns]>"
      ]
     },
     "execution_count": 5,
     "metadata": {},
     "output_type": "execute_result"
    }
   ],
   "source": [
    "review = pd.read_csv('reviews.csv',error_bad_lines = False)\n",
    "review.head"
   ]
  },
  {
   "cell_type": "code",
   "execution_count": 6,
   "metadata": {},
   "outputs": [
    {
     "data": {
      "text/html": [
       "<div>\n",
       "<style scoped>\n",
       "    .dataframe tbody tr th:only-of-type {\n",
       "        vertical-align: middle;\n",
       "    }\n",
       "\n",
       "    .dataframe tbody tr th {\n",
       "        vertical-align: top;\n",
       "    }\n",
       "\n",
       "    .dataframe thead th {\n",
       "        text-align: right;\n",
       "    }\n",
       "</style>\n",
       "<table border=\"1\" class=\"dataframe\">\n",
       "  <thead>\n",
       "    <tr style=\"text-align: right;\">\n",
       "      <th></th>\n",
       "      <th>title</th>\n",
       "      <th>content</th>\n",
       "      <th>rating</th>\n",
       "    </tr>\n",
       "  </thead>\n",
       "  <tbody>\n",
       "    <tr>\n",
       "      <th>0</th>\n",
       "      <td>Heads you win, Tails you lose.</td>\n",
       "      <td>Every product has a head and tail after it get...</td>\n",
       "      <td>4.0 out of 5 stars</td>\n",
       "    </tr>\n",
       "    <tr>\n",
       "      <th>1</th>\n",
       "      <td>Truly genuine neckband</td>\n",
       "      <td>Today i am gonna Share my Genuine Veiws on WeC...</td>\n",
       "      <td>5.0 out of 5 stars</td>\n",
       "    </tr>\n",
       "    <tr>\n",
       "      <th>2</th>\n",
       "      <td>The Bluetooth is very nice.</td>\n",
       "      <td>The nickband is really good for the price.. It...</td>\n",
       "      <td>5.0 out of 5 stars</td>\n",
       "    </tr>\n",
       "    <tr>\n",
       "      <th>3</th>\n",
       "      <td>Very flexible neckand, quality is also perfect...</td>\n",
       "      <td>Likes the product very much, sound quality att...</td>\n",
       "      <td>5.0 out of 5 stars</td>\n",
       "    </tr>\n",
       "    <tr>\n",
       "      <th>4</th>\n",
       "      <td>Good quality</td>\n",
       "      <td>Wirelength is too long, battery back up is ok ...</td>\n",
       "      <td>5.0 out of 5 stars</td>\n",
       "    </tr>\n",
       "  </tbody>\n",
       "</table>\n",
       "</div>"
      ],
      "text/plain": [
       "                                               title  \\\n",
       "0                     Heads you win, Tails you lose.   \n",
       "1                             Truly genuine neckband   \n",
       "2                        The Bluetooth is very nice.   \n",
       "3  Very flexible neckand, quality is also perfect...   \n",
       "4                                       Good quality   \n",
       "\n",
       "                                             content              rating  \n",
       "0  Every product has a head and tail after it get...  4.0 out of 5 stars  \n",
       "1  Today i am gonna Share my Genuine Veiws on WeC...  5.0 out of 5 stars  \n",
       "2  The nickband is really good for the price.. It...  5.0 out of 5 stars  \n",
       "3  Likes the product very much, sound quality att...  5.0 out of 5 stars  \n",
       "4  Wirelength is too long, battery back up is ok ...  5.0 out of 5 stars  "
      ]
     },
     "execution_count": 6,
     "metadata": {},
     "output_type": "execute_result"
    }
   ],
   "source": [
    "review = review.iloc[:,3:]\n",
    "review.head()"
   ]
  },
  {
   "cell_type": "code",
   "execution_count": 7,
   "metadata": {},
   "outputs": [
    {
     "data": {
      "text/plain": [
       "(2477, 2)"
      ]
     },
     "execution_count": 7,
     "metadata": {},
     "output_type": "execute_result"
    }
   ],
   "source": [
    "afinn = pd.read_csv('Afinn.csv', sep=',', encoding='latin-1')\n",
    "afinn.shape"
   ]
  },
  {
   "cell_type": "code",
   "execution_count": 8,
   "metadata": {},
   "outputs": [
    {
     "data": {
      "text/plain": [
       "['Every product has a head and tail after it gets quality control check from the manufacturer. Heads you win, tails you lose. If you get a good piece you are lucky and if not you have to fight for refund or replacement. This is Universal procedure. For Rs.700/- you can not expect Bose earbuds. Even in high end items same head and tail formula applies.. Now having said so my first piece was defective.I got replacement which is just good if not fine. Bluetooth connectivity is poor for this product otherwise rest of the functions are 4 star and if you still want a 5 star product you have to pay more for a higher quality product. For theatrical 8 D depth you can not expect that on a cheap portable device. You need soundproof and calm surroundings for that enjoyment.. I am in-depth music connoisseur and have tested all musical headphones, earbuds, portable speakers and home theater equipment.Comparing WeCool N1 to any such competitors at Rs.700/- is a deal.And to end my review I again repeat, if you get heads you are very lucky for the price you paid. Hope my review helps.',\n",
       " \"Today i am gonna Share my Genuine Veiws on WeCool N1 neckband which i have Purchased recently. I think it will be a Best Product For neckband lovers. Packing :. The packing is perfect with neckband placed securely.the packing itself looks premium.. inside contents :. Wecool neckband,a small cable to charge,user manual, warranty card(1year warry) and 2 pairs of extra ear tips(small and large).. Look And Feel :. The band is look very good and elegant.feels very light in hands.the neck band is made of some soft kind of flexible material which is very comfortable to wear.the ear piece is made of metal and looks good and hard.the ear pieces can be attached together by the magnets.the magnet is good enough to hold them tight.the color of earpiece looks good and gives kinda premium look.. Buttons :. The brick on the right side has the buttons.. We get 1 multifunctional button (the middle one)which can be used to power on and power off.you can also attend the calls and end the calls by single pressing them.while playing music you can pause/play by single press.. You can adjust the volume by the the 2 buttons which is either side of the multi functional button by single pressing.long press changes the tracks when music is being played.. Connectivity :. Pairing it with your mobile is very easy...just press and hold the power button on the boult untill you feel the vibration twice.turn on the Bluetooth option on your mobile... search for devices and you'll find 'boult audio' just tap it and you'll be paired.also you can hear an audio that your are being connected.. Battery:. The company has been specified about battery around 12hrs music playtime and 120 hrs stand by. it's giving more than12 hours of playback.yes,the battery backup is good on this.we can easily get 12hours of play time through this earphones.. Sound quality :. Sound quality in this neckband are amazing.. The mids are crisp and clear, the vocals are good the bass is also heavy but it's that not punchy.but don't you can adjust the equalizer and have that punchy base.. The call quality is also good because of the condenser microphone .. This neckband have noise cancellation which works good.the volume level on these buds are really high.i cannot go beyond 80% when I'm in office. When I'm on streets I can use full volume to make that noise isolation work.. features:. this neckband is comes with IPX5 Water resistance,it will stood up against sweat and extreams, it can used during workout and cycling. This neckband are really budget friendly and has some good premium features.. there are no concerns according to me till now\",\n",
       " 'The nickband is really good for the price.. It have great battery life and easy to use.. The Bluetooth range is very good. The sound quality is very excellent and bass is too good. Noice cancellation is really good and voice calls are making clearly. Really this product is so valuable. I recommend it to as many people as possible.',\n",
       " 'Likes the product very much, sound quality attracts very much, product flexibility is also at par. Easily connects into the bluetooth...very fast. 2 buds extra for the big and small size, total 3 in the box. Also in the hands free call function and magnetic locking earbuds, helps to prevent the neckband. Three buttons, volume +,- and power on/off. Easy to use. And on the otherside product branding.',\n",
       " 'Wirelength is too long, battery back up is ok and can last for 1-2 days for a minimal usage without listening to music and just for calling purpose. There is no bass at all and I guess the overall could be improved. Not so good looking considering other brands available online. Voice calling is very clear and I had purchased for it for this purpose only so for me its working well wothout any hassle. I would say buy it only if you want to use it for voice calling purpose and little bit of entertainment.',\n",
       " \"Review after 2 days. (My first ever Bluetooth earphone).. Came with 70% charge. It has indicators -which is good.. 1 hour call- 100% to 80% battery.. Means, hopefully 5 hours call time.. Not more than that, Im sure.. Signal reception is not the best.. If you keep the phone in bag, the voice quality is affected (interruption/breaking).. The earphone otherwise is of good quality.. Not the premium level but above average.. Functionally its ok.. Flexible and foldable. So very convenient.. Loudness is not bad. Would appreciate a little more though.. Music quality good for the price.. Dont expect the premium levels though.. Lightweight and of proper size.. The on-band switches are of good use.. (Yes its plastic and feels 'plasticy'). My primary use- calls and class, not music.. For 700 Rs. its still not a poor choice.\",\n",
       " \"1st the delivery of Amazon is too good and then awesome packing. Then comming to product. The experience of sound is really great we catch every instrumental sounds clearly and be joyful while listening and my rating is 4/5. And then about bass, actually | expected too about bass boost but it not reached then that just good actually but | satisfied with that and my rating is 3/5. Then build quality is also good with waterproof and sweat proof | liked it oneplus neversettle in build quality and my rating Is 4/5. Then Battery is really brillint keka excellent really really really really really it's tooo good 10 min above 10 hrs of warpcharge full charge above 20 hrs it's really nice\",\n",
       " \"Its light weighted and comfortable neck band.. It charges in around 1-1.5hr and gives backup of around 7-8 hrs with stand by.. It has magnetic buds but it doesn't works as a on/off function. I had to press and hold power button to power on/off.. Sound quality is fairly good. There is lack of little bass but other things like treble,highs, low were decent.. Its build quality is good but quality of the plastic casing is not up to the mark it gives the feel of cheap plastic.. I feel wires are also vere delicate but are strong enough.. But what you can expect in such a low price.. For me audio quality matters while calling, other person was able to hear me clearly so audio reception is also good.. The feature which I like the most is its pairing one. Once its paired with my mobile. It connects instantly with in a second whenever it powers on.. Overall its a decent neck band with good audio quality.\",\n",
       " 'i am surprised with this brand. this is the first time i am using this brand and it totally stand upto my expectation. it is a wireless neckband with battery backup of around 6 hrs of continue uses and approx 20 hours if i use it just for calls and meetings. sound quality is good, could have been better, but no complains considering the prize range. connectivity is fast and can be easily paired. I use this while travelling and its super comfortable and easily blend in with outfits. Overall a perfect music and travelling companion.',\n",
       " \"It's surprisingly good. These are good music Bluetooth earphones. Magnetic earpiece makes it a perfect choice. Don't buy this if you particular to rich deep bass music. But if it's a basic wireless headset that you want, without too much complexity, then this is the one. I highly recommend it. Easy to pair with any brand mobile phones. Battery backup should be more than 6 hours straight. I have used it for 6 hours continuously without low battery notification. Mic quality is pretty decent. The middle portion of the strap is thicker and flexible giving good grip too around your neck.\"]"
      ]
     },
     "execution_count": 8,
     "metadata": {},
     "output_type": "execute_result"
    }
   ],
   "source": [
    "review = [x.strip() for x in review.content] # remove both the leading and the trailing characters\n",
    "review = [x for x in review if x] # removes empty strings, because they are considered in Python as False\n",
    "review[0:10]"
   ]
  },
  {
   "cell_type": "code",
   "execution_count": 9,
   "metadata": {},
   "outputs": [
    {
     "data": {
      "text/plain": [
       "['Even in high end items same head and tail formula applies.. Now having said so my first piece was defective.I got replacement which is just good if not fine.',\n",
       " 'Bluetooth connectivity is poor for this product otherwise rest of the functions are 4 star and if you still want a 5 star product you have to pay more for a higher quality product.',\n",
       " 'For theatrical 8 D depth you can not expect that on a cheap portable device.',\n",
       " 'You need soundproof and calm surroundings for that enjoyment..',\n",
       " 'I am in-depth music connoisseur and have tested all musical headphones, earbuds, portable speakers and home theater equipment.Comparing WeCool N1 to any such competitors at Rs.700/- is a deal.And to end my review I again repeat, if you get heads you are very lucky for the price you paid.',\n",
       " 'Hope my review helps.',\n",
       " 'Today i am gonna Share my Genuine Veiws on WeCool N1 neckband which i have Purchased recently.',\n",
       " 'I think it will be a Best Product For neckband lovers.',\n",
       " 'Packing :.',\n",
       " 'The packing is perfect with neckband placed securely.the packing itself looks premium.. inside contents :.']"
      ]
     },
     "execution_count": 9,
     "metadata": {},
     "output_type": "execute_result"
    }
   ],
   "source": [
    "from nltk import tokenize\n",
    "sentences = tokenize.sent_tokenize(\" \".join(review))\n",
    "sentences[5:15]"
   ]
  },
  {
   "cell_type": "code",
   "execution_count": 10,
   "metadata": {},
   "outputs": [
    {
     "data": {
      "text/html": [
       "<div>\n",
       "<style scoped>\n",
       "    .dataframe tbody tr th:only-of-type {\n",
       "        vertical-align: middle;\n",
       "    }\n",
       "\n",
       "    .dataframe tbody tr th {\n",
       "        vertical-align: top;\n",
       "    }\n",
       "\n",
       "    .dataframe thead th {\n",
       "        text-align: right;\n",
       "    }\n",
       "</style>\n",
       "<table border=\"1\" class=\"dataframe\">\n",
       "  <thead>\n",
       "    <tr style=\"text-align: right;\">\n",
       "      <th></th>\n",
       "      <th>sentence</th>\n",
       "    </tr>\n",
       "  </thead>\n",
       "  <tbody>\n",
       "    <tr>\n",
       "      <th>0</th>\n",
       "      <td>Every product has a head and tail after it get...</td>\n",
       "    </tr>\n",
       "    <tr>\n",
       "      <th>1</th>\n",
       "      <td>Heads you win, tails you lose.</td>\n",
       "    </tr>\n",
       "    <tr>\n",
       "      <th>2</th>\n",
       "      <td>If you get a good piece you are lucky and if n...</td>\n",
       "    </tr>\n",
       "    <tr>\n",
       "      <th>3</th>\n",
       "      <td>This is Universal procedure.</td>\n",
       "    </tr>\n",
       "    <tr>\n",
       "      <th>4</th>\n",
       "      <td>For Rs.700/- you can not expect Bose earbuds.</td>\n",
       "    </tr>\n",
       "    <tr>\n",
       "      <th>...</th>\n",
       "      <td>...</td>\n",
       "    </tr>\n",
       "    <tr>\n",
       "      <th>2171</th>\n",
       "      <td>Easy to carry and use.</td>\n",
       "    </tr>\n",
       "    <tr>\n",
       "      <th>2172</th>\n",
       "      <td>Don't think just buy.</td>\n",
       "    </tr>\n",
       "    <tr>\n",
       "      <th>2173</th>\n",
       "      <td>Sound quality of earphones is just superb and ...</td>\n",
       "    </tr>\n",
       "    <tr>\n",
       "      <th>2174</th>\n",
       "      <td>Bluetooth pairing is also very fast and overal...</td>\n",
       "    </tr>\n",
       "    <tr>\n",
       "      <th>2175</th>\n",
       "      <td>Sound quality is best,bass quality is awesome ...</td>\n",
       "    </tr>\n",
       "  </tbody>\n",
       "</table>\n",
       "<p>2176 rows × 1 columns</p>\n",
       "</div>"
      ],
      "text/plain": [
       "                                               sentence\n",
       "0     Every product has a head and tail after it get...\n",
       "1                        Heads you win, tails you lose.\n",
       "2     If you get a good piece you are lucky and if n...\n",
       "3                          This is Universal procedure.\n",
       "4         For Rs.700/- you can not expect Bose earbuds.\n",
       "...                                                 ...\n",
       "2171                             Easy to carry and use.\n",
       "2172                              Don't think just buy.\n",
       "2173  Sound quality of earphones is just superb and ...\n",
       "2174  Bluetooth pairing is also very fast and overal...\n",
       "2175  Sound quality is best,bass quality is awesome ...\n",
       "\n",
       "[2176 rows x 1 columns]"
      ]
     },
     "execution_count": 10,
     "metadata": {},
     "output_type": "execute_result"
    }
   ],
   "source": [
    "sent_df = pd.DataFrame(sentences, columns=['sentence'])\n",
    "sent_df"
   ]
  },
  {
   "cell_type": "code",
   "execution_count": 11,
   "metadata": {},
   "outputs": [],
   "source": [
    "affinity_scores = afinn.set_index('word')['value'].to_dict()"
   ]
  },
  {
   "cell_type": "code",
   "execution_count": 12,
   "metadata": {},
   "outputs": [],
   "source": [
    "nlp = spacy.load('en_core_web_sm')\n",
    "sentiment_lexicon = affinity_scores\n",
    "\n",
    "def calculate_sentiment(text: str = None):\n",
    "    sent_score = 0\n",
    "    if text:\n",
    "        sentence = nlp(text)\n",
    "        for word in sentence:\n",
    "            sent_score += sentiment_lexicon.get(word.lemma_, 0)\n",
    "    return sent_score"
   ]
  },
  {
   "cell_type": "code",
   "execution_count": 13,
   "metadata": {},
   "outputs": [],
   "source": [
    "sent_df['sentiment_value'] = sent_df['sentence'].apply(calculate_sentiment)"
   ]
  },
  {
   "cell_type": "code",
   "execution_count": 14,
   "metadata": {},
   "outputs": [
    {
     "data": {
      "text/html": [
       "<div>\n",
       "<style scoped>\n",
       "    .dataframe tbody tr th:only-of-type {\n",
       "        vertical-align: middle;\n",
       "    }\n",
       "\n",
       "    .dataframe tbody tr th {\n",
       "        vertical-align: top;\n",
       "    }\n",
       "\n",
       "    .dataframe thead th {\n",
       "        text-align: right;\n",
       "    }\n",
       "</style>\n",
       "<table border=\"1\" class=\"dataframe\">\n",
       "  <thead>\n",
       "    <tr style=\"text-align: right;\">\n",
       "      <th></th>\n",
       "      <th>sentence</th>\n",
       "      <th>sentiment_value</th>\n",
       "      <th>word_count</th>\n",
       "    </tr>\n",
       "  </thead>\n",
       "  <tbody>\n",
       "    <tr>\n",
       "      <th>1384</th>\n",
       "      <td>Excellent sound quality, super bass quality,wo...</td>\n",
       "      <td>25</td>\n",
       "      <td>50</td>\n",
       "    </tr>\n",
       "    <tr>\n",
       "      <th>2053</th>\n",
       "      <td>Nice nackband i loved it sound is awesome smal...</td>\n",
       "      <td>26</td>\n",
       "      <td>52</td>\n",
       "    </tr>\n",
       "    <tr>\n",
       "      <th>1800</th>\n",
       "      <td>I really like this product and affordable pric...</td>\n",
       "      <td>28</td>\n",
       "      <td>72</td>\n",
       "    </tr>\n",
       "    <tr>\n",
       "      <th>1059</th>\n",
       "      <td>Very powerful brand you nice better big you su...</td>\n",
       "      <td>30</td>\n",
       "      <td>76</td>\n",
       "    </tr>\n",
       "    <tr>\n",
       "      <th>1676</th>\n",
       "      <td>Not good Calling Like it Avg ok Super Worst Re...</td>\n",
       "      <td>30</td>\n",
       "      <td>37</td>\n",
       "    </tr>\n",
       "    <tr>\n",
       "      <th>1997</th>\n",
       "      <td>Sound quality is very good, vocals are Crystal...</td>\n",
       "      <td>32</td>\n",
       "      <td>125</td>\n",
       "    </tr>\n",
       "    <tr>\n",
       "      <th>1762</th>\n",
       "      <td>Gives nice hearing experience so good device n...</td>\n",
       "      <td>35</td>\n",
       "      <td>50</td>\n",
       "    </tr>\n",
       "    <tr>\n",
       "      <th>1675</th>\n",
       "      <td>Normal not higher Not in good range Very good ...</td>\n",
       "      <td>36</td>\n",
       "      <td>172</td>\n",
       "    </tr>\n",
       "    <tr>\n",
       "      <th>1799</th>\n",
       "      <td>And built quality is very cheap I'll not buy i...</td>\n",
       "      <td>42</td>\n",
       "      <td>80</td>\n",
       "    </tr>\n",
       "    <tr>\n",
       "      <th>1805</th>\n",
       "      <td>We cool company product was EXLELENT Excellent...</td>\n",
       "      <td>45</td>\n",
       "      <td>131</td>\n",
       "    </tr>\n",
       "  </tbody>\n",
       "</table>\n",
       "</div>"
      ],
      "text/plain": [
       "                                               sentence  sentiment_value  \\\n",
       "1384  Excellent sound quality, super bass quality,wo...               25   \n",
       "2053  Nice nackband i loved it sound is awesome smal...               26   \n",
       "1800  I really like this product and affordable pric...               28   \n",
       "1059  Very powerful brand you nice better big you su...               30   \n",
       "1676  Not good Calling Like it Avg ok Super Worst Re...               30   \n",
       "1997  Sound quality is very good, vocals are Crystal...               32   \n",
       "1762  Gives nice hearing experience so good device n...               35   \n",
       "1675  Normal not higher Not in good range Very good ...               36   \n",
       "1799  And built quality is very cheap I'll not buy i...               42   \n",
       "1805  We cool company product was EXLELENT Excellent...               45   \n",
       "\n",
       "      word_count  \n",
       "1384          50  \n",
       "2053          52  \n",
       "1800          72  \n",
       "1059          76  \n",
       "1676          37  \n",
       "1997         125  \n",
       "1762          50  \n",
       "1675         172  \n",
       "1799          80  \n",
       "1805         131  "
      ]
     },
     "execution_count": 14,
     "metadata": {},
     "output_type": "execute_result"
    }
   ],
   "source": [
    "sent_df['word_count'] = sent_df['sentence'].str.split().apply(len)\n",
    "sent_df.sort_values(by='sentiment_value').tail(10)"
   ]
  },
  {
   "cell_type": "code",
   "execution_count": 15,
   "metadata": {},
   "outputs": [
    {
     "data": {
      "text/plain": [
       "count    2176.000000\n",
       "mean        2.648897\n",
       "std         4.543823\n",
       "min       -15.000000\n",
       "25%         0.000000\n",
       "50%         2.000000\n",
       "75%         4.000000\n",
       "max        45.000000\n",
       "Name: sentiment_value, dtype: float64"
      ]
     },
     "execution_count": 15,
     "metadata": {},
     "output_type": "execute_result"
    }
   ],
   "source": [
    "sent_df['sentiment_value'].describe()"
   ]
  },
  {
   "cell_type": "code",
   "execution_count": 16,
   "metadata": {},
   "outputs": [
    {
     "data": {
      "text/html": [
       "<div>\n",
       "<style scoped>\n",
       "    .dataframe tbody tr th:only-of-type {\n",
       "        vertical-align: middle;\n",
       "    }\n",
       "\n",
       "    .dataframe tbody tr th {\n",
       "        vertical-align: top;\n",
       "    }\n",
       "\n",
       "    .dataframe thead th {\n",
       "        text-align: right;\n",
       "    }\n",
       "</style>\n",
       "<table border=\"1\" class=\"dataframe\">\n",
       "  <thead>\n",
       "    <tr style=\"text-align: right;\">\n",
       "      <th></th>\n",
       "      <th>sentence</th>\n",
       "      <th>sentiment_value</th>\n",
       "      <th>word_count</th>\n",
       "    </tr>\n",
       "  </thead>\n",
       "  <tbody>\n",
       "    <tr>\n",
       "      <th>0</th>\n",
       "      <td>Every product has a head and tail after it get...</td>\n",
       "      <td>0</td>\n",
       "      <td>16</td>\n",
       "    </tr>\n",
       "    <tr>\n",
       "      <th>3</th>\n",
       "      <td>This is Universal procedure.</td>\n",
       "      <td>0</td>\n",
       "      <td>4</td>\n",
       "    </tr>\n",
       "    <tr>\n",
       "      <th>4</th>\n",
       "      <td>For Rs.700/- you can not expect Bose earbuds.</td>\n",
       "      <td>0</td>\n",
       "      <td>8</td>\n",
       "    </tr>\n",
       "    <tr>\n",
       "      <th>6</th>\n",
       "      <td>Bluetooth connectivity is poor for this produc...</td>\n",
       "      <td>-2</td>\n",
       "      <td>34</td>\n",
       "    </tr>\n",
       "    <tr>\n",
       "      <th>7</th>\n",
       "      <td>For theatrical 8 D depth you can not expect th...</td>\n",
       "      <td>0</td>\n",
       "      <td>15</td>\n",
       "    </tr>\n",
       "  </tbody>\n",
       "</table>\n",
       "</div>"
      ],
      "text/plain": [
       "                                            sentence  sentiment_value  \\\n",
       "0  Every product has a head and tail after it get...                0   \n",
       "3                       This is Universal procedure.                0   \n",
       "4      For Rs.700/- you can not expect Bose earbuds.                0   \n",
       "6  Bluetooth connectivity is poor for this produc...               -2   \n",
       "7  For theatrical 8 D depth you can not expect th...                0   \n",
       "\n",
       "   word_count  \n",
       "0          16  \n",
       "3           4  \n",
       "4           8  \n",
       "6          34  \n",
       "7          15  "
      ]
     },
     "execution_count": 16,
     "metadata": {},
     "output_type": "execute_result"
    }
   ],
   "source": [
    "sent_df[sent_df['sentiment_value']<=0].head()"
   ]
  },
  {
   "cell_type": "code",
   "execution_count": 17,
   "metadata": {},
   "outputs": [],
   "source": [
    "sent_df['index']=range(0,len(sent_df))"
   ]
  },
  {
   "cell_type": "code",
   "execution_count": 18,
   "metadata": {},
   "outputs": [
    {
     "data": {
      "text/plain": [
       "<AxesSubplot:xlabel='index', ylabel='sentiment_value'>"
      ]
     },
     "execution_count": 18,
     "metadata": {},
     "output_type": "execute_result"
    },
    {
     "data": {
      "image/png": "[encoded data removed]",
      "text/plain": [
       "<Figure size 1080x720 with 1 Axes>"
      ]
     },
     "metadata": {
      "needs_background": "light"
     },
     "output_type": "display_data"
    }
   ],
   "source": [
    "import seaborn as sns\n",
    "plt.figure(figsize=(15, 10))\n",
    "sns.lineplot(y='sentiment_value',x='index',data=sent_df)"
   ]
  },
  {
   "cell_type": "code",
   "execution_count": 19,
   "metadata": {},
   "outputs": [],
   "source": [
    "#By seeing graph and mean values we can conclude that earphone has more positive opinion compared to neagitive"
   ]
  },
  {
   "cell_type": "markdown",
   "metadata": {},
   "source": [
    "# Elon-Musk"
   ]
  },
  {
   "cell_type": "code",
   "execution_count": 20,
   "metadata": {},
   "outputs": [
    {
     "data": {
      "text/html": [
       "<div>\n",
       "<style scoped>\n",
       "    .dataframe tbody tr th:only-of-type {\n",
       "        vertical-align: middle;\n",
       "    }\n",
       "\n",
       "    .dataframe tbody tr th {\n",
       "        vertical-align: top;\n",
       "    }\n",
       "\n",
       "    .dataframe thead th {\n",
       "        text-align: right;\n",
       "    }\n",
       "</style>\n",
       "<table border=\"1\" class=\"dataframe\">\n",
       "  <thead>\n",
       "    <tr style=\"text-align: right;\">\n",
       "      <th></th>\n",
       "      <th>Text</th>\n",
       "    </tr>\n",
       "  </thead>\n",
       "  <tbody>\n",
       "    <tr>\n",
       "      <th>0</th>\n",
       "      <td>@kunalb11 Im an alien</td>\n",
       "    </tr>\n",
       "    <tr>\n",
       "      <th>1</th>\n",
       "      <td>@ID_AA_Carmack Ray tracing on Cyberpunk with H...</td>\n",
       "    </tr>\n",
       "    <tr>\n",
       "      <th>2</th>\n",
       "      <td>@joerogan @Spotify Great interview!</td>\n",
       "    </tr>\n",
       "    <tr>\n",
       "      <th>3</th>\n",
       "      <td>@gtera27 Doge is underestimated</td>\n",
       "    </tr>\n",
       "    <tr>\n",
       "      <th>4</th>\n",
       "      <td>@teslacn Congratulations Tesla China for amazi...</td>\n",
       "    </tr>\n",
       "  </tbody>\n",
       "</table>\n",
       "</div>"
      ],
      "text/plain": [
       "                                                Text\n",
       "0                             @kunalb11 Im an alien\n",
       "1  @ID_AA_Carmack Ray tracing on Cyberpunk with H...\n",
       "2                @joerogan @Spotify Great interview!\n",
       "3                    @gtera27 Doge is underestimated\n",
       "4  @teslacn Congratulations Tesla China for amazi..."
      ]
     },
     "execution_count": 20,
     "metadata": {},
     "output_type": "execute_result"
    }
   ],
   "source": [
    "data = pd.read_csv(\"Elon_musk.csv\",error_bad_lines = False,encoding = 'latin-1')\n",
    "data = data.iloc[:,1:]\n",
    "data.head()"
   ]
  },
  {
   "cell_type": "code",
   "execution_count": 21,
   "metadata": {},
   "outputs": [
    {
     "data": {
      "text/plain": [
       "['@kunalb11 I\\x92m an alien',\n",
       " '@ID_AA_Carmack Ray tracing on Cyberpunk with HDR is next-level. Have you tried it?',\n",
       " '@joerogan @Spotify Great interview!',\n",
       " '@gtera27 Doge is underestimated',\n",
       " '@teslacn Congratulations Tesla China for amazing execution last year. Now on to the next for even more!!',\n",
       " 'Happy New Year of the Ox! https://t.co/9WFKMYu2oj',\n",
       " 'Frodo was the underdoge,\\nAll thought he would fail,\\nHimself most of all. https://t.co/zGxJFDzzrM',\n",
       " '@OwenSparks_ @flcnhvy @anonyx10 Haha thanks :)',\n",
       " '@flcnhvy @anonyx10 Indeed! Tweets definitely do not represent real-world time allocation.',\n",
       " 'The most entertaining outcome is the most likely']"
      ]
     },
     "execution_count": 21,
     "metadata": {},
     "output_type": "execute_result"
    }
   ],
   "source": [
    "data = [x.strip() for x in data.Text] # remove both the leading and the trailing characters\n",
    "data = [x for x in data if x] # removes empty strings, because they are considered in Python as False\n",
    "data[0:10]"
   ]
  },
  {
   "cell_type": "code",
   "execution_count": 22,
   "metadata": {},
   "outputs": [
    {
     "data": {
      "text/plain": [
       "['Happy New Year of the Ox!',\n",
       " 'https://t.co/9WFKMYu2oj Frodo was the underdoge,\\nAll thought he would fail,\\nHimself most of all.',\n",
       " 'https://t.co/zGxJFDzzrM @OwenSparks_ @flcnhvy @anonyx10 Haha thanks :) @flcnhvy @anonyx10 Indeed!',\n",
       " 'Tweets definitely do not represent real-world time allocation.',\n",
       " 'The most entertaining outcome is the most likely @GiveDirectly Just sent some Just agree to do Clubhouse with @kanyewest https://t.co/3rWE9uHSTS @geoffkeighley @UnrealEngine It\\x92s getting real Bought some Dogecoin for lil X, so he can be a toddler hodler @JoshManMode He definitely has issues, but the sentencing seems a bit high @freewalletorg Thanks for fixing @freewalletorg Please unlock my account @AstroJordy <U+0001F923><U+0001F923> This is true power haha https://t.co/Fc9uhQSd7O @freewalletorg Any crypto wallet that won\\x92t give you your private keys should be avoided at all costs @freewalletorg Your app sucks RT @SpaceX: NASA has selected Falcon Heavy to launch the first two elements of the lunar Gateway together on one mission!',\n",
       " 'https://t.co/3pWt @ajtourville Yes @BLKMDL3 @RationalEtienne @Adamklotz_ Once we can predict cash flow reasonably well, Starlink will IPO @RationalEtienne @Adamklotz_ Starlink is a staggeringly difficult technical &amp; economic endeavor.',\n",
       " 'However, if we don\\x85 https://t.co/9Z8Ac6skqx @RationalEtienne @Adamklotz_ SpaceX needs to pass through a deep chasm of negative cash flow over the next year or\\x85 https://t.co/7J1c92hdjl @ID_AA_Carmack Lowest cost per ton of carbon sequestered, net of value of any product made.',\n",
       " 'Must be scalable to g\\x85 https://t.co/XMyI7qWSgw @Adamklotz_ It\\x92s meant to be the same price in all countries.',\n",
       " 'Only difference should be taxes &amp; shipping.',\n",
       " '@tobyliiiiiiiiii This is intended for Earth, but there may be some ideas that apply to Mars too @CryptoShrikar @CoinDesk @Tesla @Dan_Z_Palmer <U+0001F923><U+0001F923> XPrize team will manage the $100M carbon capture prize https://t.co/fSw5IanL0r @SRuhle Everyone at Tesla receives stock.']"
      ]
     },
     "execution_count": 22,
     "metadata": {},
     "output_type": "execute_result"
    }
   ],
   "source": [
    "from nltk import tokenize\n",
    "sentences1 = tokenize.sent_tokenize(\" \".join(data))\n",
    "sentences1[5:15]"
   ]
  },
  {
   "cell_type": "code",
   "execution_count": 23,
   "metadata": {},
   "outputs": [
    {
     "data": {
      "text/html": [
       "<div>\n",
       "<style scoped>\n",
       "    .dataframe tbody tr th:only-of-type {\n",
       "        vertical-align: middle;\n",
       "    }\n",
       "\n",
       "    .dataframe tbody tr th {\n",
       "        vertical-align: top;\n",
       "    }\n",
       "\n",
       "    .dataframe thead th {\n",
       "        text-align: right;\n",
       "    }\n",
       "</style>\n",
       "<table border=\"1\" class=\"dataframe\">\n",
       "  <thead>\n",
       "    <tr style=\"text-align: right;\">\n",
       "      <th></th>\n",
       "      <th>sentence</th>\n",
       "    </tr>\n",
       "  </thead>\n",
       "  <tbody>\n",
       "    <tr>\n",
       "      <th>0</th>\n",
       "      <td>@kunalb11 Im an alien @ID_AA_Carmack Ray trac...</td>\n",
       "    </tr>\n",
       "    <tr>\n",
       "      <th>1</th>\n",
       "      <td>Have you tried it?</td>\n",
       "    </tr>\n",
       "    <tr>\n",
       "      <th>2</th>\n",
       "      <td>@joerogan @Spotify Great interview!</td>\n",
       "    </tr>\n",
       "    <tr>\n",
       "      <th>3</th>\n",
       "      <td>@gtera27 Doge is underestimated @teslacn Congr...</td>\n",
       "    </tr>\n",
       "    <tr>\n",
       "      <th>4</th>\n",
       "      <td>Now on to the next for even more!!</td>\n",
       "    </tr>\n",
       "    <tr>\n",
       "      <th>...</th>\n",
       "      <td>...</td>\n",
       "    </tr>\n",
       "    <tr>\n",
       "      <th>919</th>\n",
       "      <td>@kenyanwalstreet Not actually a payout, just a...</td>\n",
       "    </tr>\n",
       "    <tr>\n",
       "      <th>920</th>\n",
       "      <td>It may never pay out, as the stock cant b",
       " ht...</td>\n",
       "    </tr>\n",
       "    <tr>\n",
       "      <th>921</th>\n",
       "      <td>Details Aug 28.</td>\n",
       "    </tr>\n",
       "    <tr>\n",
       "      <th>922</th>\n",
       "      <td>AI symbiosis while u wait @vistacruiser7 @flcn...</td>\n",
       "    </tr>\n",
       "    <tr>\n",
       "      <th>923</th>\n",
       "      <td>@TeslaGong @PPathole Samwise Gamgee @PPathole ...</td>\n",
       "    </tr>\n",
       "  </tbody>\n",
       "</table>\n",
       "<p>924 rows × 1 columns</p>\n",
       "</div>"
      ],
      "text/plain": [
       "                                              sentence\n",
       "0    @kunalb11 Im an alien @ID_AA_Carmack Ray trac...\n",
       "1                                   Have you tried it?\n",
       "2                  @joerogan @Spotify Great interview!\n",
       "3    @gtera27 Doge is underestimated @teslacn Congr...\n",
       "4                   Now on to the next for even more!!\n",
       "..                                                 ...\n",
       "919  @kenyanwalstreet Not actually a payout, just a...\n",
       "920  It may never pay out, as the stock cant b\n",
       " ht...\n",
       "921                                    Details Aug 28.\n",
       "922  AI symbiosis while u wait @vistacruiser7 @flcn...\n",
       "923  @TeslaGong @PPathole Samwise Gamgee @PPathole ...\n",
       "\n",
       "[924 rows x 1 columns]"
      ]
     },
     "execution_count": 23,
     "metadata": {},
     "output_type": "execute_result"
    }
   ],
   "source": [
    "sent_df1 = pd.DataFrame(sentences1, columns=['sentence'])\n",
    "sent_df1"
   ]
  },
  {
   "cell_type": "code",
   "execution_count": 24,
   "metadata": {},
   "outputs": [],
   "source": [
    "affinity_scores = afinn.set_index('word')['value'].to_dict()"
   ]
  },
  {
   "cell_type": "code",
   "execution_count": 25,
   "metadata": {},
   "outputs": [],
   "source": [
    "nlp = spacy.load('en_core_web_sm')\n",
    "sentiment_lexicon = affinity_scores"
   ]
  },
  {
   "cell_type": "code",
   "execution_count": 26,
   "metadata": {},
   "outputs": [],
   "source": [
    "sent_df1['sentiment_value'] = sent_df1['sentence'].apply(calculate_sentiment)"
   ]
  },
  {
   "cell_type": "code",
   "execution_count": 27,
   "metadata": {},
   "outputs": [
    {
     "data": {
      "text/html": [
       "<div>\n",
       "<style scoped>\n",
       "    .dataframe tbody tr th:only-of-type {\n",
       "        vertical-align: middle;\n",
       "    }\n",
       "\n",
       "    .dataframe tbody tr th {\n",
       "        vertical-align: top;\n",
       "    }\n",
       "\n",
       "    .dataframe thead th {\n",
       "        text-align: right;\n",
       "    }\n",
       "</style>\n",
       "<table border=\"1\" class=\"dataframe\">\n",
       "  <thead>\n",
       "    <tr style=\"text-align: right;\">\n",
       "      <th></th>\n",
       "      <th>sentence</th>\n",
       "      <th>sentiment_value</th>\n",
       "      <th>word_count</th>\n",
       "    </tr>\n",
       "  </thead>\n",
       "  <tbody>\n",
       "    <tr>\n",
       "      <th>183</th>\n",
       "      <td>Theres some great AI out ther",
       " https://t.co/v...</td>\n",
       "      <td>10</td>\n",
       "      <td>48</td>\n",
       "    </tr>\n",
       "    <tr>\n",
       "      <th>224</th>\n",
       "      <td>@PPathole @karpathy For a second there, I thou...</td>\n",
       "      <td>11</td>\n",
       "      <td>69</td>\n",
       "    </tr>\n",
       "    <tr>\n",
       "      <th>817</th>\n",
       "      <td>Might be able to",
       " https://t.co/FB7e5nOq2E @Pri...</td>\n",
       "      <td>11</td>\n",
       "      <td>72</td>\n",
       "    </tr>\n",
       "    <tr>\n",
       "      <th>184</th>\n",
       "      <td>Also, w",
       " https://t.co/IYdKttVsqk @cleantechnic...</td>\n",
       "      <td>12</td>\n",
       "      <td>98</td>\n",
       "    </tr>\n",
       "    <tr>\n",
       "      <th>645</th>\n",
       "      <td>Its",
       " https://t.co/IxhyT6NuiC @Teslarati Tesla...</td>\n",
       "      <td>13</td>\n",
       "      <td>65</td>\n",
       "    </tr>\n",
       "    <tr>\n",
       "      <th>81</th>\n",
       "      <td>@teslaownersSV This is a good one @MrBeastYT I...</td>\n",
       "      <td>13</td>\n",
       "      <td>38</td>\n",
       "    </tr>\n",
       "    <tr>\n",
       "      <th>585</th>\n",
       "      <td>The open areas",
       " https://t.co/rabjKrtQlw @Sav...</td>\n",
       "      <td>14</td>\n",
       "      <td>138</td>\n",
       "    </tr>\n",
       "    <tr>\n",
       "      <th>719</th>\n",
       "      <td>We just havent observed the",
       " https://t.co/mez...</td>\n",
       "      <td>15</td>\n",
       "      <td>72</td>\n",
       "    </tr>\n",
       "    <tr>\n",
       "      <th>36</th>\n",
       "      <td>@ajtourville @Erdayastronaut @SpaceX Yes, but ...</td>\n",
       "      <td>15</td>\n",
       "      <td>231</td>\n",
       "    </tr>\n",
       "    <tr>\n",
       "      <th>105</th>\n",
       "      <td>@Erdayastronaut @SpaceX Was also thinking that...</td>\n",
       "      <td>16</td>\n",
       "      <td>94</td>\n",
       "    </tr>\n",
       "  </tbody>\n",
       "</table>\n",
       "</div>"
      ],
      "text/plain": [
       "                                              sentence  sentiment_value  \\\n",
       "183  Theres some great AI out ther\n",
       " https://t.co/v...               10   \n",
       "224  @PPathole @karpathy For a second there, I thou...               11   \n",
       "817  Might be able to\n",
       " https://t.co/FB7e5nOq2E @Pri...               11   \n",
       "184  Also, w\n",
       " https://t.co/IYdKttVsqk @cleantechnic...               12   \n",
       "645  Its\n",
       " https://t.co/IxhyT6NuiC @Teslarati Tesla...               13   \n",
       "81   @teslaownersSV This is a good one @MrBeastYT I...               13   \n",
       "585  The open areas\n",
       " https://t.co/rabjKrtQlw @Sav...               14   \n",
       "719  We just havent observed the\n",
       " https://t.co/mez...               15   \n",
       "36   @ajtourville @Erdayastronaut @SpaceX Yes, but ...               15   \n",
       "105  @Erdayastronaut @SpaceX Was also thinking that...               16   \n",
       "\n",
       "     word_count  \n",
       "183          48  \n",
       "224          69  \n",
       "817          72  \n",
       "184          98  \n",
       "645          65  \n",
       "81           38  \n",
       "585         138  \n",
       "719          72  \n",
       "36          231  \n",
       "105          94  "
      ]
     },
     "execution_count": 27,
     "metadata": {},
     "output_type": "execute_result"
    }
   ],
   "source": [
    "sent_df1['word_count'] = sent_df1['sentence'].str.split().apply(len)\n",
    "sent_df1.sort_values(by='sentiment_value').tail(10)"
   ]
  },
  {
   "cell_type": "code",
   "execution_count": 28,
   "metadata": {},
   "outputs": [
    {
     "data": {
      "text/plain": [
       "count    924.000000\n",
       "mean       1.352814\n",
       "std        2.671421\n",
       "min       -8.000000\n",
       "25%        0.000000\n",
       "50%        0.000000\n",
       "75%        3.000000\n",
       "max       16.000000\n",
       "Name: sentiment_value, dtype: float64"
      ]
     },
     "execution_count": 28,
     "metadata": {},
     "output_type": "execute_result"
    }
   ],
   "source": [
    "sent_df1['sentiment_value'].describe()"
   ]
  },
  {
   "cell_type": "code",
   "execution_count": 29,
   "metadata": {},
   "outputs": [
    {
     "data": {
      "text/plain": [
       "<AxesSubplot:xlabel='index', ylabel='sentiment_value'>"
      ]
     },
     "execution_count": 29,
     "metadata": {},
     "output_type": "execute_result"
    },
    {
     "data": {
      "image/png": "[encoded data removed]",
      "text/plain": [
       "<Figure size 1080x720 with 1 Axes>"
      ]
     },
     "metadata": {
      "needs_background": "light"
     },
     "output_type": "display_data"
    }
   ],
   "source": [
    "sent_df1['index']=range(0,len(sent_df1))\n",
    "import seaborn as sns\n",
    "plt.figure(figsize=(15, 10))\n",
    "sns.lineplot(y='sentiment_value',x='index',data=sent_df1)"
   ]
  },
  {
   "cell_type": "code",
   "execution_count": 30,
   "metadata": {},
   "outputs": [],
   "source": [
    "#More positive tweets compared to neagitive"
   ]
  },
  {
   "cell_type": "code",
   "execution_count": null,
   "metadata": {},
   "outputs": [],
   "source": []
  }
 ],
 "metadata": {
  "kernelspec": {
   "display_name": "Python 3",
   "language": "python",
   "name": "python3"
  },
  "language_info": {
   "codemirror_mode": {
    "name": "ipython",
    "version": 3
   },
   "file_extension": ".py",
   "mimetype": "text/x-python",
   "name": "python",
   "nbconvert_exporter": "python",
   "pygments_lexer": "ipython3",
   "version": "3.8.5"
  }
 },
 "nbformat": 4,
 "nbformat_minor": 4
}
